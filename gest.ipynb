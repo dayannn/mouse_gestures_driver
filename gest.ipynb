{
 "cells": [
  {
   "cell_type": "code",
   "execution_count": 32,
   "metadata": {
    "collapsed": true
   },
   "outputs": [],
   "source": [
    "%matplotlib inline"
   ]
  },
  {
   "cell_type": "code",
   "execution_count": 33,
   "metadata": {
    "collapsed": true
   },
   "outputs": [],
   "source": [
    "from IPython import display\n",
    "import matplotlib.pylab as pl\n",
    "import numpy as np\n",
    "from IPython.display import clear_output"
   ]
  },
  {
   "cell_type": "code",
   "execution_count": 34,
   "metadata": {
    "collapsed": true
   },
   "outputs": [],
   "source": [
    "DOWNLEFT = 'DOWNLEFT'\n",
    "DOWN = 'DOWN'\n",
    "DOWNRIGHT = 'DOWNRIGHT'\n",
    "LEFT = 'LEFT'\n",
    "RIGHT = 'RIGHT'\n",
    "UPLEFT = 'UPLEFT'\n",
    "UP = 'UP'\n",
    "UPRIGHT = 'UPRIGHT'\n",
    "SEG_LEN = 20"
   ]
  },
  {
   "cell_type": "code",
   "execution_count": 35,
   "metadata": {
    "collapsed": true
   },
   "outputs": [],
   "source": [
    "def getDirection(coord_diff):\n",
    "    x, y = coord_diff\n",
    "\n",
    "    if x == 0 and y == 0:\n",
    "        return None # two coordinates are the same.\n",
    "    elif x == 0 and y > 0:\n",
    "        return UP\n",
    "    elif x == 0 and y < 0:\n",
    "        return DOWN\n",
    "    elif x < 0 and y == 0:\n",
    "        return LEFT\n",
    "    elif x > 0 and y == 0:\n",
    "        return RIGHT\n",
    "\n",
    "    slope = float(y) / float(x)  # тангенс угла наклона отрезка\n",
    "\n",
    "    \n",
    "    if x > 0 and y > 0: # верхний правый квадрант\n",
    "        if slope < 0.4142:\n",
    "            return RIGHT # slope = [0; 22.5]\n",
    "        elif slope > 2.4142:\n",
    "            return UP # slope = [67.5; 90]\n",
    "        else:\n",
    "            return UPRIGHT # slope = [22.5; 67.5]\n",
    "    elif x > 0 and y < 0: # нижный правый квадрант\n",
    "        if slope < -2.4142:\n",
    "            return DOWN\n",
    "        elif slope > -0.4142:\n",
    "            return RIGHT\n",
    "        else:\n",
    "            return DOWNRIGHT\n",
    "    elif x < 0 and y > 0: # верхний левый квадрант\n",
    "        if slope > -0.4142:\n",
    "            return LEFT\n",
    "        elif slope < -2.4142:\n",
    "            return UP\n",
    "        else:\n",
    "            return UPLEFT\n",
    "    elif x < 0 and y < 0: # нижний левый квадрант\n",
    "        if slope > 2.4142:\n",
    "            return DOWN\n",
    "        elif slope < 0.4142:\n",
    "            return LEFT\n",
    "        else:\n",
    "            return DOWNLEFT"
   ]
  },
  {
   "cell_type": "code",
   "execution_count": 36,
   "metadata": {
    "collapsed": true
   },
   "outputs": [],
   "source": [
    "def getGesture(coords_diff):\n",
    "    dirs = [getDirection(coord_diff) for coord_diff in coords_diff]\n",
    "    dirs = [i for i in dirs if i != None] # убираем None\n",
    "\n",
    "    seg_dirs = []\n",
    "    for i in range (0, len (dirs)-SEG_LEN, SEG_LEN):\n",
    "        spl = dirs[i : i+SEG_LEN]\n",
    "        (vals, counts) = np.unique(spl, return_counts=True)\n",
    "        ind = np.argmax(counts)\n",
    "        seg_dirs.append(vals[ind]) # наиболее часто встречающееся направление в сегменте\n",
    "\n",
    "    i = 0\n",
    "    while (i < len(seg_dirs) - 1):        # убираем повторяющиеся\n",
    "        if seg_dirs[i] == seg_dirs[i+1]:\n",
    "            del seg_dirs[i+1]\n",
    "            i -= 1\n",
    "        i+=1\n",
    "    \n",
    "    return seg_dirs"
   ]
  },
  {
   "cell_type": "code",
   "execution_count": 37,
   "metadata": {},
   "outputs": [
    {
     "data": {
      "image/png": "[encoded data removed]",
      "text/plain": [
       "<matplotlib.figure.Figure at 0x7efbdfe47278>"
      ]
     },
     "metadata": {},
     "output_type": "display_data"
    },
    {
     "name": "stdout",
     "output_type": "stream",
     "text": [
      "['DOWN', 'DOWNLEFT', 'UP', 'UPRIGHT', 'DOWNLEFT', 'RIGHT', 'DOWNLEFT', 'LEFT']\n"
     ]
    },
    {
     "ename": "KeyboardInterrupt",
     "evalue": "",
     "output_type": "error",
     "traceback": [
      "\u001b[0;31m---------------------------------------------------------------------------\u001b[0m",
      "\u001b[0;31mKeyboardInterrupt\u001b[0m                         Traceback (most recent call last)",
      "\u001b[0;32m<ipython-input-37-75fb44504525>\u001b[0m in \u001b[0;36m<module>\u001b[0;34m()\u001b[0m\n\u001b[1;32m     48\u001b[0m \u001b[0;34m\u001b[0m\u001b[0m\n\u001b[1;32m     49\u001b[0m \u001b[0ms\u001b[0m\u001b[0;34m.\u001b[0m\u001b[0menter\u001b[0m\u001b[0;34m(\u001b[0m\u001b[0;36m1\u001b[0m\u001b[0;34m,\u001b[0m \u001b[0;36m1\u001b[0m\u001b[0;34m,\u001b[0m \u001b[0mrecGesture\u001b[0m\u001b[0;34m,\u001b[0m \u001b[0;34m(\u001b[0m\u001b[0mx_old\u001b[0m\u001b[0;34m,\u001b[0m \u001b[0my_old\u001b[0m\u001b[0;34m,\u001b[0m\u001b[0;34m)\u001b[0m\u001b[0;34m)\u001b[0m\u001b[0;34m\u001b[0m\u001b[0m\n\u001b[0;32m---> 50\u001b[0;31m \u001b[0ms\u001b[0m\u001b[0;34m.\u001b[0m\u001b[0mrun\u001b[0m\u001b[0;34m(\u001b[0m\u001b[0;34m)\u001b[0m\u001b[0;34m\u001b[0m\u001b[0m\n\u001b[0m",
      "\u001b[0;32m~/anaconda3/lib/python3.6/sched.py\u001b[0m in \u001b[0;36mrun\u001b[0;34m(self, blocking)\u001b[0m\n\u001b[1;32m    150\u001b[0m                 \u001b[0;32mif\u001b[0m \u001b[0;32mnot\u001b[0m \u001b[0mblocking\u001b[0m\u001b[0;34m:\u001b[0m\u001b[0;34m\u001b[0m\u001b[0m\n\u001b[1;32m    151\u001b[0m                     \u001b[0;32mreturn\u001b[0m \u001b[0mtime\u001b[0m \u001b[0;34m-\u001b[0m \u001b[0mnow\u001b[0m\u001b[0;34m\u001b[0m\u001b[0m\n\u001b[0;32m--> 152\u001b[0;31m                 \u001b[0mdelayfunc\u001b[0m\u001b[0;34m(\u001b[0m\u001b[0mtime\u001b[0m \u001b[0;34m-\u001b[0m \u001b[0mnow\u001b[0m\u001b[0;34m)\u001b[0m\u001b[0;34m\u001b[0m\u001b[0m\n\u001b[0m\u001b[1;32m    153\u001b[0m             \u001b[0;32melse\u001b[0m\u001b[0;34m:\u001b[0m\u001b[0;34m\u001b[0m\u001b[0m\n\u001b[1;32m    154\u001b[0m                 \u001b[0maction\u001b[0m\u001b[0;34m(\u001b[0m\u001b[0;34m*\u001b[0m\u001b[0margument\u001b[0m\u001b[0;34m,\u001b[0m \u001b[0;34m**\u001b[0m\u001b[0mkwargs\u001b[0m\u001b[0;34m)\u001b[0m\u001b[0;34m\u001b[0m\u001b[0m\n",
      "\u001b[0;31mKeyboardInterrupt\u001b[0m: "
     ]
    },
    {
     "data": {
      "image/png": "[encoded data removed]",
      "text/plain": [
       "<matplotlib.figure.Figure at 0x7efbdfe47278>"
      ]
     },
     "metadata": {},
     "output_type": "display_data"
    }
   ],
   "source": [
    "def getCoords(procfile):\n",
    "    line = procfile.read()\n",
    "    lines = line.splitlines()\n",
    "        \n",
    "    x = np.array([], dtype=np.int32)\n",
    "    y = np.array([], dtype=np.int32)\n",
    "\n",
    "    for l in lines:\n",
    "        l = l.split('\\t')\n",
    "        x = np.append(x, int(l[0]))\n",
    "        y = np.append(y, int(l[1]))\n",
    "    return (x,y)\n",
    "\n",
    "def recGesture(x_old, y_old):\n",
    "    procfile = open('/proc/mouseGestModule/info', 'r')\n",
    "    x, y = getCoords(procfile)\n",
    "    if (x.size > 0):\n",
    "        x_old = np.append(x_old, x)\n",
    "        y_old = np.append(y_old, y)\n",
    "    elif (len(x_old) > 1):\n",
    "        \n",
    "        g = getGesture(list(zip(x_old, -y_old)))\n",
    "        x_old = x_old.cumsum() \n",
    "        y_old = -y_old.cumsum()\n",
    "\n",
    "        try:\n",
    "            pl.clf()\n",
    "            display.clear_output(wait=True)\n",
    "            pl.gca().set_aspect('equal', adjustable='box')\n",
    "            pl.plot(x_old, y_old) \n",
    "            display.display(pl.gcf())\n",
    "            print (g)\n",
    "        except KeyboardInterrupt:\n",
    "            return;\n",
    "        \n",
    "        x_old = np.array([0])\n",
    "        y_old = np.array([0])\n",
    "    \n",
    "    procfile.close()\n",
    "    s.enter(1, 1, recGesture, (x_old, y_old))\n",
    "\n",
    "    \n",
    "import sched, time\n",
    "s = sched.scheduler(time.time, time.sleep)\n",
    "    \n",
    "x_old = np.array([0])\n",
    "y_old = np.array([0])\n",
    "    \n",
    "s.enter(1, 1, recGesture, (x_old, y_old,))\n",
    "s.run()"
   ]
  },
  {
   "cell_type": "code",
   "execution_count": null,
   "metadata": {
    "collapsed": true
   },
   "outputs": [],
   "source": []
  }
 ],
 "metadata": {
  "kernelspec": {
   "display_name": "Python 3",
   "language": "python",
   "name": "python3"
  },
  "language_info": {
   "codemirror_mode": {
    "name": "ipython",
    "version": 3
   },
   "file_extension": ".py",
   "mimetype": "text/x-python",
   "name": "python",
   "nbconvert_exporter": "python",
   "pygments_lexer": "ipython3",
   "version": "3.6.3"
  }
 },
 "nbformat": 4,
 "nbformat_minor": 2
}
