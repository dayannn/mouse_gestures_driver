{
 "cells": [
  {
   "cell_type": "code",
   "execution_count": 7,
   "metadata": {
    "collapsed": true
   },
   "outputs": [],
   "source": [
    "%matplotlib inline\n",
    "#%matplotlib notebook"
   ]
  },
  {
   "cell_type": "code",
   "execution_count": 8,
   "metadata": {
    "collapsed": true
   },
   "outputs": [],
   "source": [
    "from IPython import display\n",
    "import matplotlib.pylab as pl\n",
    "import numpy as np\n",
    "from IPython.display import clear_output"
   ]
  },
  {
   "cell_type": "code",
   "execution_count": 9,
   "metadata": {
    "collapsed": true
   },
   "outputs": [],
   "source": [
    "DOWNLEFT = 'DL'\n",
    "DOWN = 'D'\n",
    "DOWNRIGHT = 'DR'\n",
    "LEFT = 'L'\n",
    "RIGHT = 'R'\n",
    "UPLEFT = 'UL'\n",
    "UP = 'U'\n",
    "UPRIGHT = 'UR'"
   ]
  },
  {
   "cell_type": "code",
   "execution_count": 10,
   "metadata": {
    "collapsed": true
   },
   "outputs": [],
   "source": [
    "def getDirection(coord_diff):\n",
    "    # Return the integer of one of the 8 directions this line is going in.\n",
    "    # coord1 and coord2 are (x, y) integers coordinates.\n",
    "    x, y = coord_diff\n",
    "\n",
    "    if x == 0 and y == 0:\n",
    "        return None # two coordinates are the same.\n",
    "    elif x == 0 and y > 0:\n",
    "        return UP\n",
    "    elif x == 0 and y < 0:\n",
    "        return DOWN\n",
    "    elif x < 0 and y == 0:\n",
    "        return LEFT\n",
    "    elif x > 0 and y == 0:\n",
    "        return RIGHT\n",
    "\n",
    "    slope = float(y) / float(x)\n",
    "\n",
    "    # Figure out which quadrant the line is going in, and then\n",
    "    # determine the closest direction by calculating the slope\n",
    "    if x > 0 and y > 0: # up right quadrant\n",
    "        if slope < 0.4142:\n",
    "            return RIGHT # slope is between 0 and 22.5 degrees\n",
    "        elif slope > 2.4142:\n",
    "            return UP # slope is between 67.5 and 90 degrees\n",
    "        else:\n",
    "            return UPRIGHT # slope is between 22.5 and 67.5 degrees\n",
    "    elif x > 0 and y < 0: # down right quadrant\n",
    "        if slope < -2.4142:\n",
    "            return DOWN\n",
    "        elif slope > -0.4142:\n",
    "            return RIGHT\n",
    "        else:\n",
    "            return DOWNRIGHT\n",
    "    elif x < 0 and y > 0: # up left quadrant\n",
    "        if slope > -0.4142:\n",
    "            return LEFT\n",
    "        elif slope < -2.4142:\n",
    "            return UP\n",
    "        else:\n",
    "            return UPLEFT\n",
    "    elif x < 0 and y < 0: # down left quadrant\n",
    "        if slope > 2.4142:\n",
    "            return DOWN\n",
    "        elif slope < 0.4142:\n",
    "            return LEFT\n",
    "        else:\n",
    "            return DOWNLEFT"
   ]
  },
  {
   "cell_type": "code",
   "execution_count": 11,
   "metadata": {
    "collapsed": true
   },
   "outputs": [],
   "source": [
    "def getGesture(coords_diff):\n",
    "    dirs = [getDirection(coord_diff) for coord_diff in coords_diff]\n",
    "    dirs = [i for i in dirs if i != None] #remove Nones\n",
    "\n",
    "    seg_dirs = []\n",
    "    for i in range (0, len (dirs)-10, 20):\n",
    "        spl = dirs[i : i+20]\n",
    "        (vals ,counts) = np.unique(spl, return_counts=True)\n",
    "        ind = np.argmax(counts)\n",
    "        seg_dirs.append(vals[ind])\n",
    "\n",
    "    i = 0\n",
    "    while (i < len(seg_dirs) - 1):\n",
    "        if seg_dirs[i] == seg_dirs[i+1]:\n",
    "            del seg_dirs[i+1]\n",
    "            i -= 1\n",
    "        i+=1\n",
    "    \n",
    "    return seg_dirs"
   ]
  },
  {
   "cell_type": "markdown",
   "metadata": {
    "scrolled": true
   },
   "source": [
    "with open('/proc/mouseListener/info', 'r') as procfile:\n",
    "    line = procfile.read()\n",
    "    #print(line)\n",
    "    if (line == ''):\n",
    "        print('lol')\n",
    "    lines = line.splitlines()\n",
    "    print ('len = ', len(lines))\n",
    "    \n",
    "    x = np.array([0], dtype=np.int32)\n",
    "    y = np.array([0], dtype=np.int32)\n",
    "    \n",
    "    for l in lines:\n",
    "        l = l.split('\\t')\n",
    "        x = np.append(x, int(l[1]))\n",
    "        y = np.append(y, int(l[2]))\n",
    "    \n",
    "    \n",
    "    print (getGesture(list(zip(x, -y))))\n",
    "    \n",
    "    x = x.cumsum() \n",
    "    y = -y.cumsum()\n",
    "    \n",
    "    plt.gca().set_aspect('equal', adjustable='box')\n",
    "    plt.plot(x, y)\n"
   ]
  },
  {
   "cell_type": "code",
   "execution_count": 13,
   "metadata": {},
   "outputs": [
    {
     "data": {
      "image/png": "[encoded data removed]",
      "text/plain": [
       "<matplotlib.figure.Figure at 0x7f6ba4a08668>"
      ]
     },
     "metadata": {},
     "output_type": "display_data"
    },
    {
     "name": "stdout",
     "output_type": "stream",
     "text": [
      "['U', 'UR', 'D', 'DL']\n"
     ]
    },
    {
     "ename": "KeyboardInterrupt",
     "evalue": "",
     "output_type": "error",
     "traceback": [
      "\u001b[0;31m---------------------------------------------------------------------------\u001b[0m",
      "\u001b[0;31mKeyboardInterrupt\u001b[0m                         Traceback (most recent call last)",
      "\u001b[0;32m<ipython-input-13-7b8f349ec815>\u001b[0m in \u001b[0;36m<module>\u001b[0;34m()\u001b[0m\n\u001b[1;32m     49\u001b[0m \u001b[0;34m\u001b[0m\u001b[0m\n\u001b[1;32m     50\u001b[0m \u001b[0ms\u001b[0m\u001b[0;34m.\u001b[0m\u001b[0menter\u001b[0m\u001b[0;34m(\u001b[0m\u001b[0;36m1\u001b[0m\u001b[0;34m,\u001b[0m \u001b[0;36m1\u001b[0m\u001b[0;34m,\u001b[0m \u001b[0mdo_stuff\u001b[0m\u001b[0;34m,\u001b[0m \u001b[0;34m(\u001b[0m\u001b[0mx_old\u001b[0m\u001b[0;34m,\u001b[0m \u001b[0my_old\u001b[0m\u001b[0;34m,\u001b[0m\u001b[0;34m)\u001b[0m\u001b[0;34m)\u001b[0m\u001b[0;34m\u001b[0m\u001b[0m\n\u001b[0;32m---> 51\u001b[0;31m \u001b[0ms\u001b[0m\u001b[0;34m.\u001b[0m\u001b[0mrun\u001b[0m\u001b[0;34m(\u001b[0m\u001b[0;34m)\u001b[0m\u001b[0;34m\u001b[0m\u001b[0m\n\u001b[0m",
      "\u001b[0;32m~/anaconda3/lib/python3.6/sched.py\u001b[0m in \u001b[0;36mrun\u001b[0;34m(self, blocking)\u001b[0m\n\u001b[1;32m    150\u001b[0m                 \u001b[0;32mif\u001b[0m \u001b[0;32mnot\u001b[0m \u001b[0mblocking\u001b[0m\u001b[0;34m:\u001b[0m\u001b[0;34m\u001b[0m\u001b[0m\n\u001b[1;32m    151\u001b[0m                     \u001b[0;32mreturn\u001b[0m \u001b[0mtime\u001b[0m \u001b[0;34m-\u001b[0m \u001b[0mnow\u001b[0m\u001b[0;34m\u001b[0m\u001b[0m\n\u001b[0;32m--> 152\u001b[0;31m                 \u001b[0mdelayfunc\u001b[0m\u001b[0;34m(\u001b[0m\u001b[0mtime\u001b[0m \u001b[0;34m-\u001b[0m \u001b[0mnow\u001b[0m\u001b[0;34m)\u001b[0m\u001b[0;34m\u001b[0m\u001b[0m\n\u001b[0m\u001b[1;32m    153\u001b[0m             \u001b[0;32melse\u001b[0m\u001b[0;34m:\u001b[0m\u001b[0;34m\u001b[0m\u001b[0m\n\u001b[1;32m    154\u001b[0m                 \u001b[0maction\u001b[0m\u001b[0;34m(\u001b[0m\u001b[0;34m*\u001b[0m\u001b[0margument\u001b[0m\u001b[0;34m,\u001b[0m \u001b[0;34m**\u001b[0m\u001b[0mkwargs\u001b[0m\u001b[0;34m)\u001b[0m\u001b[0;34m\u001b[0m\u001b[0m\n",
      "\u001b[0;31mKeyboardInterrupt\u001b[0m: "
     ]
    },
    {
     "data": {
      "image/png": "[encoded data removed]",
      "text/plain": [
       "<matplotlib.figure.Figure at 0x7f6ba4a08668>"
      ]
     },
     "metadata": {},
     "output_type": "display_data"
    }
   ],
   "source": [
    "def getCoords(procfile):\n",
    "    line = procfile.read()\n",
    "    #if (line == ''):\n",
    "        #print('nothing was read')\n",
    "    lines = line.splitlines()\n",
    "        \n",
    "    x = np.array([], dtype=np.int32)\n",
    "    y = np.array([], dtype=np.int32)\n",
    "\n",
    "    for l in lines:\n",
    "        l = l.split('\\t')\n",
    "        x = np.append(x, int(l[1]))\n",
    "        y = np.append(y, int(l[2]))\n",
    "    return (x,y)\n",
    "\n",
    "def do_stuff(x_old, y_old):\n",
    "    procfile = open('/proc/mouseListener/info', 'r')\n",
    "    x, y = getCoords(procfile)\n",
    "    if (x.size > 0):\n",
    "        x_old = np.append(x_old, x)\n",
    "        y_old = np.append(y_old, y)\n",
    "    elif (len(x_old) > 1):\n",
    "        \n",
    "        g = getGesture(list(zip(x_old, -y_old)))\n",
    "        x_old = x_old.cumsum() \n",
    "        y_old = -y_old.cumsum()\n",
    "\n",
    "        try:\n",
    "            display.clear_output(wait=True)\n",
    "            pl.gca().set_aspect('equal', adjustable='box')\n",
    "            pl.plot(x_old, y_old) \n",
    "            display.display(pl.gcf())\n",
    "            print (g)\n",
    "        except KeyboardInterrupt:\n",
    "            return;\n",
    "        \n",
    "        x_old = np.array([0])\n",
    "        y_old = np.array([0])\n",
    "    \n",
    "    procfile.close()\n",
    "    s.enter(1, 1, do_stuff, (x_old, y_old))\n",
    "\n",
    "    \n",
    "import sched, time\n",
    "s = sched.scheduler(time.time, time.sleep)\n",
    "    \n",
    "x_old = np.array([0])\n",
    "y_old = np.array([0])\n",
    "    \n",
    "s.enter(1, 1, do_stuff, (x_old, y_old,))\n",
    "s.run()"
   ]
  },
  {
   "cell_type": "code",
   "execution_count": null,
   "metadata": {
    "collapsed": true
   },
   "outputs": [],
   "source": []
  }
 ],
 "metadata": {
  "kernelspec": {
   "display_name": "Python 3",
   "language": "python",
   "name": "python3"
  },
  "language_info": {
   "codemirror_mode": {
    "name": "ipython",
    "version": 3
   },
   "file_extension": ".py",
   "mimetype": "text/x-python",
   "name": "python",
   "nbconvert_exporter": "python",
   "pygments_lexer": "ipython3",
   "version": "3.6.3"
  }
 },
 "nbformat": 4,
 "nbformat_minor": 2
}
