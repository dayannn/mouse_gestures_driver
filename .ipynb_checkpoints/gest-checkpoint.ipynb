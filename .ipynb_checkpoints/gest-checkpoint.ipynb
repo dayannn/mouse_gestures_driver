{
 "cells": [
  {
   "cell_type": "code",
   "execution_count": 1,
   "metadata": {
    "collapsed": true
   },
   "outputs": [],
   "source": [
    "%matplotlib inline"
   ]
  },
  {
   "cell_type": "code",
   "execution_count": 2,
   "metadata": {
    "collapsed": true
   },
   "outputs": [],
   "source": [
    "import matplotlib.pyplot as plt\n",
    "import numpy as np\n"
   ]
  },
  {
   "cell_type": "code",
   "execution_count": 3,
   "metadata": {
    "collapsed": true
   },
   "outputs": [],
   "source": [
    "DOWNLEFT = 'DL'\n",
    "DOWN = 'D'\n",
    "DOWNRIGHT = 'DR'\n",
    "LEFT = 'L'\n",
    "RIGHT = 'R'\n",
    "UPLEFT = 'UL'\n",
    "UP = 'U'\n",
    "UPRIGHT = 'UR'"
   ]
  },
  {
   "cell_type": "code",
   "execution_count": 4,
   "metadata": {
    "collapsed": true
   },
   "outputs": [],
   "source": [
    "def getDirection(coord_diff):\n",
    "    # Return the integer of one of the 8 directions this line is going in.\n",
    "    # coord1 and coord2 are (x, y) integers coordinates.\n",
    "    x, y = coord_diff\n",
    "\n",
    "    if x == 0 and y == 0:\n",
    "        return None # two coordinates are the same.\n",
    "    elif x == 0 and y > 0:\n",
    "        return UP\n",
    "    elif x == 0 and y < 0:\n",
    "        return DOWN\n",
    "    elif x < 0 and y == 0:\n",
    "        return LEFT\n",
    "    elif x > 0 and y == 0:\n",
    "        return RIGHT\n",
    "\n",
    "    slope = float(y) / float(x)\n",
    "\n",
    "    # Figure out which quadrant the line is going in, and then\n",
    "    # determine the closest direction by calculating the slope\n",
    "    if x > 0 and y > 0: # up right quadrant\n",
    "        if slope < 0.4142:\n",
    "            return RIGHT # slope is between 0 and 22.5 degrees\n",
    "        elif slope > 2.4142:\n",
    "            return UP # slope is between 67.5 and 90 degrees\n",
    "        else:\n",
    "            return UPRIGHT # slope is between 22.5 and 67.5 degrees\n",
    "    elif x > 0 and y < 0: # down right quadrant\n",
    "        if slope < -2.4142:\n",
    "            return DOWN\n",
    "        elif slope > -0.4142:\n",
    "            return RIGHT\n",
    "        else:\n",
    "            return DOWNRIGHT\n",
    "    elif x < 0 and y > 0: # up left quadrant\n",
    "        if slope > -0.4142:\n",
    "            return LEFT\n",
    "        elif slope < -2.4142:\n",
    "            return UP\n",
    "        else:\n",
    "            return UPLEFT\n",
    "    elif x < 0 and y < 0: # down left quadrant\n",
    "        if slope > 2.4142:\n",
    "            return DOWN\n",
    "        elif slope < 0.4142:\n",
    "            return LEFT\n",
    "        else:\n",
    "            return DOWNLEFT"
   ]
  },
  {
   "cell_type": "code",
   "execution_count": 5,
   "metadata": {
    "collapsed": true
   },
   "outputs": [],
   "source": [
    "def getGesture(coords_diff):\n",
    "    dirs = [getDirection(coord_diff) for coord_diff in coords_diff]\n",
    "    dirs = [i for i in dirs if i != None] #remove Nones\n",
    "\n",
    "    seg_dirs = []\n",
    "    for i in range (0, len (dirs)-10, 20):\n",
    "        spl = dirs[i : i+20]\n",
    "        (vals ,counts) = np.unique(spl, return_counts=True)\n",
    "        ind = np.argmax(counts)\n",
    "        seg_dirs.append(vals[ind])\n",
    "\n",
    "    i = 0\n",
    "    while (i < len(seg_dirs) - 1):\n",
    "        if seg_dirs[i] == seg_dirs[i+1]:\n",
    "            del seg_dirs[i+1]\n",
    "            i -= 1\n",
    "        i+=1\n",
    "    \n",
    "    return seg_dirs"
   ]
  },
  {
   "cell_type": "code",
   "execution_count": 7,
   "metadata": {
    "scrolled": true
   },
   "outputs": [
    {
     "name": "stdout",
     "output_type": "stream",
     "text": [
      "len =  116\n",
      "['R', 'DL', 'R']\n"
     ]
    },
    {
     "data": {
      "image/png": "[encoded data removed]",
      "text/plain": [
       "<matplotlib.figure.Figure at 0x7f3011c31748>"
      ]
     },
     "metadata": {},
     "output_type": "display_data"
    }
   ],
   "source": [
    "with open('/proc/mouseListener/info', 'r') as procfile:\n",
    "    line = procfile.read()\n",
    "    #print(line)\n",
    "    if (line == ''):\n",
    "        print('lol')\n",
    "    lines = line.splitlines()\n",
    "    print ('len = ', len(lines))\n",
    "    \n",
    "    x = np.array([0], dtype=np.int32)\n",
    "    y = np.array([0], dtype=np.int32)\n",
    "    \n",
    "    for l in lines:\n",
    "        l = l.split('\\t')\n",
    "        x = np.append(x, int(l[1]))\n",
    "        y = np.append(y, int(l[2]))\n",
    "    \n",
    "    \n",
    "    print (getGesture(list(zip(x, -y))))\n",
    "    \n",
    "    x = x.cumsum() \n",
    "    y = -y.cumsum()\n",
    "    \n",
    "    plt.gca().set_aspect('equal', adjustable='box')\n",
    "    plt.plot(x, y)\n"
   ]
  },
  {
   "cell_type": "code",
   "execution_count": null,
   "metadata": {
    "collapsed": true
   },
   "outputs": [],
   "source": []
  }
 ],
 "metadata": {
  "kernelspec": {
   "display_name": "Python 3",
   "language": "python",
   "name": "python3"
  },
  "language_info": {
   "codemirror_mode": {
    "name": "ipython",
    "version": 3
   },
   "file_extension": ".py",
   "mimetype": "text/x-python",
   "name": "python",
   "nbconvert_exporter": "python",
   "pygments_lexer": "ipython3",
   "version": "3.6.3"
  }
 },
 "nbformat": 4,
 "nbformat_minor": 2
}
